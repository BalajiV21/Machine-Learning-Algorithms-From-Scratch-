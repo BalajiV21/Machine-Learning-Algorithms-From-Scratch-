{
 "cells": [
  {
   "cell_type": "code",
   "execution_count": 3,
   "id": "1a7d9b6a-fa03-4874-a328-48c33019a604",
   "metadata": {},
   "outputs": [],
   "source": [
    "import numpy as np\n",
    "import matplotlib.pyplot as plt"
   ]
  },
  {
   "cell_type": "code",
   "execution_count": 5,
   "id": "390fcaa8-b4ff-46da-8e61-84e8eb0fbdc6",
   "metadata": {},
   "outputs": [],
   "source": [
    "import pandas as pd "
   ]
  },
  {
   "cell_type": "code",
   "execution_count": 10,
   "id": "d07d22b9-0668-47f5-b615-391ece8c433d",
   "metadata": {},
   "outputs": [
    {
     "data": {
      "text/html": [
       "<div>\n",
       "<style scoped>\n",
       "    .dataframe tbody tr th:only-of-type {\n",
       "        vertical-align: middle;\n",
       "    }\n",
       "\n",
       "    .dataframe tbody tr th {\n",
       "        vertical-align: top;\n",
       "    }\n",
       "\n",
       "    .dataframe thead th {\n",
       "        text-align: right;\n",
       "    }\n",
       "</style>\n",
       "<table border=\"1\" class=\"dataframe\">\n",
       "  <thead>\n",
       "    <tr style=\"text-align: right;\">\n",
       "      <th></th>\n",
       "      <th>Hours</th>\n",
       "      <th>Scores</th>\n",
       "    </tr>\n",
       "  </thead>\n",
       "  <tbody>\n",
       "    <tr>\n",
       "      <th>0</th>\n",
       "      <td>1.1</td>\n",
       "      <td>41</td>\n",
       "    </tr>\n",
       "    <tr>\n",
       "      <th>1</th>\n",
       "      <td>1.2</td>\n",
       "      <td>40</td>\n",
       "    </tr>\n",
       "    <tr>\n",
       "      <th>2</th>\n",
       "      <td>1.4</td>\n",
       "      <td>38</td>\n",
       "    </tr>\n",
       "    <tr>\n",
       "      <th>3</th>\n",
       "      <td>1.5</td>\n",
       "      <td>39</td>\n",
       "    </tr>\n",
       "    <tr>\n",
       "      <th>4</th>\n",
       "      <td>1.6</td>\n",
       "      <td>36</td>\n",
       "    </tr>\n",
       "  </tbody>\n",
       "</table>\n",
       "</div>"
      ],
      "text/plain": [
       "   Hours  Scores\n",
       "0    1.1      41\n",
       "1    1.2      40\n",
       "2    1.4      38\n",
       "3    1.5      39\n",
       "4    1.6      36"
      ]
     },
     "execution_count": 10,
     "metadata": {},
     "output_type": "execute_result"
    }
   ],
   "source": [
    "data = pd.read_csv(\"rounded_hours_student_scores.csv\")\n",
    "data.head()"
   ]
  },
  {
   "cell_type": "code",
   "execution_count": 12,
   "id": "1de8c3dd-8ad0-4e70-92e6-a5ab83ead58a",
   "metadata": {},
   "outputs": [],
   "source": [
    "X = data['Hours']\n",
    "y = data['Scores']"
   ]
  },
  {
   "cell_type": "code",
   "execution_count": 38,
   "id": "2c0469b4-bb7a-4e0c-aecd-272f9eb55f64",
   "metadata": {},
   "outputs": [],
   "source": [
    "w=0\n",
    "b=0\n",
    "n_iteration =2000\n",
    "learning_rate = 0.01\n",
    "m = len(y)"
   ]
  },
  {
   "cell_type": "code",
   "execution_count": 40,
   "id": "d433f89f-9921-4dda-9753-766b6234e827",
   "metadata": {},
   "outputs": [
    {
     "name": "stdout",
     "output_type": "stream",
     "text": [
      "Iteration 0: Loss=1094.0000, w=2.4988, b=0.4643\n",
      "Iteration 50: Loss=99.0919, w=7.1171, b=4.1990\n",
      "Iteration 100: Loss=84.3494, w=6.6867, b=6.8753\n",
      "Iteration 150: Loss=71.9364, w=6.2918, b=9.3311\n",
      "Iteration 200: Loss=61.4848, w=5.9295, b=11.5845\n",
      "Iteration 250: Loss=52.6846, w=5.5970, b=13.6522\n",
      "Iteration 300: Loss=45.2750, w=5.2919, b=15.5495\n",
      "Iteration 350: Loss=39.0361, w=5.0119, b=17.2905\n",
      "Iteration 400: Loss=33.7831, w=4.7550, b=18.8881\n",
      "Iteration 450: Loss=29.3601, w=4.5193, b=20.3540\n",
      "Iteration 500: Loss=25.6360, w=4.3030, b=21.6991\n",
      "Iteration 550: Loss=22.5003, w=4.1045, b=22.9334\n",
      "Iteration 600: Loss=19.8601, w=3.9224, b=24.0659\n",
      "Iteration 650: Loss=17.6371, w=3.7552, b=25.1052\n",
      "Iteration 700: Loss=15.7653, w=3.6019, b=26.0588\n",
      "Iteration 750: Loss=14.1894, w=3.4612, b=26.9338\n",
      "Iteration 800: Loss=12.8624, w=3.3321, b=27.7368\n",
      "Iteration 850: Loss=11.7451, w=3.2136, b=28.4735\n",
      "Iteration 900: Loss=10.8043, w=3.1049, b=29.1496\n",
      "Iteration 950: Loss=10.0122, w=3.0051, b=29.7700\n",
      "Iteration 1000: Loss=9.3453, w=2.9136, b=30.3392\n",
      "Iteration 1050: Loss=8.7837, w=2.8296, b=30.8615\n",
      "Iteration 1100: Loss=8.3109, w=2.7525, b=31.3408\n",
      "Iteration 1150: Loss=7.9128, w=2.6818, b=31.7806\n",
      "Iteration 1200: Loss=7.5776, w=2.6169, b=32.1842\n",
      "Iteration 1250: Loss=7.2953, w=2.5573, b=32.5545\n",
      "Iteration 1300: Loss=7.0577, w=2.5027, b=32.8943\n",
      "Iteration 1350: Loss=6.8576, w=2.4526, b=33.2060\n",
      "Iteration 1400: Loss=6.6891, w=2.4065, b=33.4921\n",
      "Iteration 1450: Loss=6.5473, w=2.3643, b=33.7547\n",
      "Iteration 1500: Loss=6.4278, w=2.3256, b=33.9956\n",
      "Iteration 1550: Loss=6.3273, w=2.2900, b=34.2166\n",
      "Iteration 1600: Loss=6.2426, w=2.2574, b=34.4194\n",
      "Iteration 1650: Loss=6.1713, w=2.2275, b=34.6055\n",
      "Iteration 1700: Loss=6.1112, w=2.2000, b=34.7763\n",
      "Iteration 1750: Loss=6.0607, w=2.1748, b=34.9330\n",
      "Iteration 1800: Loss=6.0181, w=2.1517, b=35.0768\n",
      "Iteration 1850: Loss=5.9823, w=2.1305, b=35.2088\n",
      "Iteration 1900: Loss=5.9521, w=2.1110, b=35.3299\n",
      "Iteration 1950: Loss=5.9267, w=2.0932, b=35.4409\n"
     ]
    }
   ],
   "source": [
    "for i in range(n_iteration):\n",
    "    y_pred = w*X+b\n",
    "    dw = 1/m * np.sum((y_pred - y)*X)\n",
    "    db = 1/m * np.sum(y_pred -y)\n",
    "\n",
    "    w -= learning_rate * dw\n",
    "    b -= learning_rate * db\n",
    "\n",
    "    if i%50==0:\n",
    "        loss = (1/(2*m)) * np.sum((y_pred - y)**2) \n",
    "        print(f\"Iteration {i}: Loss={loss:.4f}, w={w:.4f}, b={b:.4f}\")\n",
    "\n"
   ]
  },
  {
   "cell_type": "code",
   "execution_count": 42,
   "id": "433ab49d-4348-4f6b-8b7f-9757a38f5766",
   "metadata": {},
   "outputs": [
    {
     "name": "stdout",
     "output_type": "stream",
     "text": [
      "Predicted score for 6 hours of study: 48.00\n"
     ]
    }
   ],
   "source": [
    "new_X = np.array([[6]])  \n",
    "predicted_y = w * new_X + b\n",
    "print(f\"Predicted score for 6 hours of study: {predicted_y[0][0]:.2f}\")\n"
   ]
  },
  {
   "cell_type": "code",
   "execution_count": 54,
   "id": "3d625c3e-8084-48c9-abcc-567261119bc5",
   "metadata": {},
   "outputs": [
    {
     "data": {
      "image/png": "[encoded data removed]",
      "text/plain": [
       "<Figure size 640x480 with 1 Axes>"
      ]
     },
     "metadata": {},
     "output_type": "display_data"
    }
   ],
   "source": [
    "plt.scatter(X,y, color=\"red\")\n",
    "plt.plot(X, w*X+b, color=\"blue\", label = \"regression Line\")\n",
    "plt.legend()\n",
    "plt.show()"
   ]
  },
  {
   "cell_type": "code",
   "execution_count": null,
   "id": "19d3c96e-69c1-46cd-9a39-786f1a44c301",
   "metadata": {},
   "outputs": [],
   "source": []
  }
 ],
 "metadata": {
  "kernelspec": {
   "display_name": "Python 3 (ipykernel)",
   "language": "python",
   "name": "python3"
  },
  "language_info": {
   "codemirror_mode": {
    "name": "ipython",
    "version": 3
   },
   "file_extension": ".py",
   "mimetype": "text/x-python",
   "name": "python",
   "nbconvert_exporter": "python",
   "pygments_lexer": "ipython3",
   "version": "3.11.5"
  }
 },
 "nbformat": 4,
 "nbformat_minor": 5
}
